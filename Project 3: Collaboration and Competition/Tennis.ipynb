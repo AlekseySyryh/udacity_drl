{
 "cells": [
  {
   "cell_type": "markdown",
   "metadata": {},
   "source": [
    "# Collaboration and Competition\n",
    "\n",
    "---\n",
    "\n",
    "In this notebook, you will learn how to use the Unity ML-Agents environment for the third project of the [Deep Reinforcement Learning Nanodegree](https://www.udacity.com/course/deep-reinforcement-learning-nanodegree--nd893) program.\n",
    "\n",
    "### 1. Start the Environment\n",
    "\n",
    "We begin by importing the necessary packages.  If the code cell below returns an error, please revisit the project instructions to double-check that you have installed [Unity ML-Agents](https://github.com/Unity-Technologies/ml-agents/blob/master/docs/Installation.md) and [NumPy](http://www.numpy.org/)."
   ]
  },
  {
   "cell_type": "code",
   "execution_count": 1,
   "metadata": {},
   "outputs": [],
   "source": [
    "from unityagents import UnityEnvironment\n",
    "import numpy as np"
   ]
  },
  {
   "cell_type": "markdown",
   "metadata": {},
   "source": [
    "Next, we will start the environment!  **_Before running the code cell below_**, change the `file_name` parameter to match the location of the Unity environment that you downloaded.\n",
    "\n",
    "- **Mac**: `\"path/to/Tennis.app\"`\n",
    "- **Windows** (x86): `\"path/to/Tennis_Windows_x86/Tennis.exe\"`\n",
    "- **Windows** (x86_64): `\"path/to/Tennis_Windows_x86_64/Tennis.exe\"`\n",
    "- **Linux** (x86): `\"path/to/Tennis_Linux/Tennis.x86\"`\n",
    "- **Linux** (x86_64): `\"path/to/Tennis_Linux/Tennis.x86_64\"`\n",
    "- **Linux** (x86, headless): `\"path/to/Tennis_Linux_NoVis/Tennis.x86\"`\n",
    "- **Linux** (x86_64, headless): `\"path/to/Tennis_Linux_NoVis/Tennis.x86_64\"`\n",
    "\n",
    "For instance, if you are using a Mac, then you downloaded `Tennis.app`.  If this file is in the same folder as the notebook, then the line below should appear as follows:\n",
    "```\n",
    "env = UnityEnvironment(file_name=\"Tennis.app\")\n",
    "```"
   ]
  },
  {
   "cell_type": "code",
   "execution_count": 2,
   "metadata": {},
   "outputs": [
    {
     "name": "stderr",
     "output_type": "stream",
     "text": [
      "INFO:unityagents:\n",
      "'Academy' started successfully!\n",
      "Unity Academy name: Academy\n",
      "        Number of Brains: 1\n",
      "        Number of External Brains : 1\n",
      "        Lesson number : 0\n",
      "        Reset Parameters :\n",
      "\t\t\n",
      "Unity brain name: TennisBrain\n",
      "        Number of Visual Observations (per agent): 0\n",
      "        Vector Observation space type: continuous\n",
      "        Vector Observation space size (per agent): 8\n",
      "        Number of stacked Vector Observation: 3\n",
      "        Vector Action space type: continuous\n",
      "        Vector Action space size (per agent): 2\n",
      "        Vector Action descriptions: , \n"
     ]
    }
   ],
   "source": [
    "env = UnityEnvironment(file_name=\"c:/Tennis_Windows_x86_64/Tennis.exe\")"
   ]
  },
  {
   "cell_type": "markdown",
   "metadata": {},
   "source": [
    "Environments contain **_brains_** which are responsible for deciding the actions of their associated agents. Here we check for the first brain available, and set it as the default brain we will be controlling from Python."
   ]
  },
  {
   "cell_type": "code",
   "execution_count": 3,
   "metadata": {},
   "outputs": [],
   "source": [
    "# get the default brain\n",
    "brain_name = env.brain_names[0]\n",
    "brain = env.brains[brain_name]"
   ]
  },
  {
   "cell_type": "markdown",
   "metadata": {},
   "source": [
    "### 2. Examine the State and Action Spaces\n",
    "\n",
    "In this environment, two agents control rackets to bounce a ball over a net. If an agent hits the ball over the net, it receives a reward of +0.1.  If an agent lets a ball hit the ground or hits the ball out of bounds, it receives a reward of -0.01.  Thus, the goal of each agent is to keep the ball in play.\n",
    "\n",
    "The observation space consists of 8 variables corresponding to the position and velocity of the ball and racket. Two continuous actions are available, corresponding to movement toward (or away from) the net, and jumping. \n",
    "\n",
    "Run the code cell below to print some information about the environment."
   ]
  },
  {
   "cell_type": "code",
   "execution_count": 4,
   "metadata": {},
   "outputs": [
    {
     "name": "stdout",
     "output_type": "stream",
     "text": [
      "Number of agents: 2\n",
      "Size of each action: 2\n",
      "There are 2 agents. Each observes a state with length: 24\n",
      "The state for the first agent looks like: [ 0.          0.          0.          0.          0.          0.\n",
      "  0.          0.          0.          0.          0.          0.\n",
      "  0.          0.          0.          0.         -6.65278625 -1.5\n",
      " -0.          0.          6.83172083  6.         -0.          0.        ]\n"
     ]
    }
   ],
   "source": [
    "# reset the environment\n",
    "env_info = env.reset(train_mode=True)[brain_name]\n",
    "\n",
    "# number of agents \n",
    "num_agents = len(env_info.agents)\n",
    "print('Number of agents:', num_agents)\n",
    "\n",
    "# size of each action\n",
    "action_size = brain.vector_action_space_size\n",
    "print('Size of each action:', action_size)\n",
    "\n",
    "# examine the state space \n",
    "states = env_info.vector_observations\n",
    "state_size = states.shape[1]\n",
    "print('There are {} agents. Each observes a state with length: {}'.format(states.shape[0], state_size))\n",
    "print('The state for the first agent looks like:', states[0])"
   ]
  },
  {
   "cell_type": "markdown",
   "metadata": {},
   "source": [
    "### 3. It's Your Turn!\n",
    "\n",
    "Now it's your turn to train your own agent to solve the environment!  When training the environment, set `train_mode=True`, so that the line for resetting the environment looks like the following:\n",
    "```python\n",
    "env_info = env.reset(train_mode=True)[brain_name]\n",
    "```"
   ]
  },
  {
   "cell_type": "code",
   "execution_count": 5,
   "metadata": {},
   "outputs": [],
   "source": [
    "from agent import Agent\n",
    "import torch\n",
    "import pickle as pkl"
   ]
  },
  {
   "cell_type": "code",
   "execution_count": 6,
   "metadata": {},
   "outputs": [],
   "source": [
    "agent1=Agent(action_size=action_size,state_size=state_size,random_seed=42)\n",
    "agent2=Agent(action_size=action_size,state_size=state_size,random_seed=42)"
   ]
  },
  {
   "cell_type": "code",
   "execution_count": 7,
   "metadata": {},
   "outputs": [
    {
     "name": "stdout",
     "output_type": "stream",
     "text": [
      "Episode  100: \tmean 0.005 \tmin 0.000\tQ1 0.000\tmedian 0.000\tQ3 0.000\tmax 0.100\tsd 0.021\n",
      "Episode  200: \tmean 0.000 \tmin 0.000\tQ1 0.000\tmedian 0.000\tQ3 0.000\tmax 0.000\tsd 0.000\n",
      "Episode  300: \tmean 0.005 \tmin 0.000\tQ1 0.000\tmedian 0.000\tQ3 0.000\tmax 0.100\tsd 0.022\n",
      "Episode  400: \tmean 0.014 \tmin 0.000\tQ1 0.000\tmedian 0.000\tQ3 0.000\tmax 0.100\tsd 0.035\n",
      "Episode  500: \tmean 0.003 \tmin 0.000\tQ1 0.000\tmedian 0.000\tQ3 0.000\tmax 0.100\tsd 0.017\n",
      "Episode  600: \tmean 0.012 \tmin 0.000\tQ1 0.000\tmedian 0.000\tQ3 0.000\tmax 0.100\tsd 0.032\n",
      "Episode  700: \tmean 0.035 \tmin 0.000\tQ1 0.000\tmedian 0.000\tQ3 0.100\tmax 0.100\tsd 0.048\n",
      "Episode  800: \tmean 0.031 \tmin 0.000\tQ1 0.000\tmedian 0.000\tQ3 0.100\tmax 0.100\tsd 0.046\n",
      "Episode  900: \tmean 0.036 \tmin 0.000\tQ1 0.000\tmedian 0.000\tQ3 0.090\tmax 0.190\tsd 0.048\n",
      "Episode 1000: \tmean 0.056 \tmin 0.000\tQ1 0.000\tmedian 0.090\tQ3 0.100\tmax 0.190\tsd 0.053\n",
      "Episode 1100: \tmean 0.061 \tmin 0.000\tQ1 0.000\tmedian 0.100\tQ3 0.100\tmax 0.300\tsd 0.058\n",
      "Episode 1200: \tmean 0.083 \tmin 0.000\tQ1 0.090\tmedian 0.100\tQ3 0.100\tmax 0.300\tsd 0.048\n",
      "Episode 1300: \tmean 0.080 \tmin 0.000\tQ1 0.090\tmedian 0.100\tQ3 0.100\tmax 0.200\tsd 0.050\n",
      "Episode 1400: \tmean 0.091 \tmin 0.000\tQ1 0.090\tmedian 0.100\tQ3 0.100\tmax 0.300\tsd 0.053\n",
      "Episode 1500: \tmean 0.099 \tmin 0.000\tQ1 0.090\tmedian 0.100\tQ3 0.100\tmax 0.300\tsd 0.065\n",
      "Episode 1600: \tmean 0.141 \tmin 0.000\tQ1 0.100\tmedian 0.100\tQ3 0.200\tmax 0.500\tsd 0.108\n",
      "Episode 1700: \tmean 0.271 \tmin 0.000\tQ1 0.100\tmedian 0.100\tQ3 0.300\tmax 2.200\tsd 0.381\n",
      "Episode 1800: \tmean 0.313 \tmin 0.000\tQ1 0.100\tmedian 0.200\tQ3 0.300\tmax 2.100\tsd 0.406\n",
      "Episode 1900: \tmean 0.401 \tmin 0.000\tQ1 0.100\tmedian 0.200\tQ3 0.325\tmax 2.600\tsd 0.624\n",
      "Solved in 1946 episodes: mean score 0.511\tmin 0.000\tQ1 0.100\tmedian 0.200\tQ3 0.525\tmax 2.600                              \n"
     ]
    }
   ],
   "source": [
    "from collections import deque\n",
    "scores_mean = deque(maxlen=100)\n",
    "scores = []\n",
    "done = False\n",
    "x = 0\n",
    "eps = 1\n",
    "while not done:\n",
    "    x += 1\n",
    "    env_info = env.reset(train_mode=True)[brain_name]     # reset the environment    \n",
    "    state = env_info.vector_observations                  # get the current state (for each agent)\n",
    "    score = np.zeros(2)\n",
    "    agent1.reset()\n",
    "    agent2.reset()\n",
    "    eps = np.max([eps*0.9998,0.1])\n",
    "    noise = np.random.random() < eps\n",
    "    while True:\n",
    "        action=[agent1.act(state[0],add_noise=noise),agent2.act(state[1],add_noise=noise)]\n",
    "        env_info = env.step(action)[brain_name]\n",
    "        next_state = env_info.vector_observations\n",
    "        reward = env_info.rewards\n",
    "        dones = env_info.local_done                        # see if episode finished\n",
    "        score += env_info.rewards                         # update the score (for each agent)\n",
    "        agent1.step(actions=action[0],dones=dones[0],next_states=next_state[0],rewards=reward[0],states=state[0])\n",
    "        agent2.step(actions=action[1],dones=dones[1],next_states=next_state[1],rewards=reward[1],states=state[1])\n",
    "        \n",
    "        state = next_state # roll over states to next time step\n",
    "        if np.any(dones):\n",
    "            scores_mean.append(score.max())\n",
    "            scores.append(score.max())\n",
    "            if np.mean(scores_mean) > 0.5:\n",
    "                done = True\n",
    "            print(\"Episode {:>4d}: \\tscore {:.3f}\\tmean {:.3f}\\tepsilon {:.3f}                         \".format(x,score.max(),np.mean(scores_mean),eps),end='\\r')\n",
    "            if x % 100 == 0:\n",
    "                q0,q1,q2,q3,q4 =np.percentile(scores_mean, [0,25, 50, 75,100])\n",
    "                print(\"Episode {:>4d}: \\tmean {:.3f} \\tmin {:.3f}\\tQ1 {:.3f}\\tmedian {:.3f}\\tQ3 {:.3f}\\tmax {:.3f}\\tsd {:.3f}\".format(x,np.mean(scores_mean),q0,q1,q2,q3,q4,np.std(scores_mean)))\n",
    "                torch.save(agent1.actor_local.state_dict(), \"checkpoints/actor1.episode{}.pth\".format(x))\n",
    "                torch.save(agent2.actor_local.state_dict(), \"checkpoints/actor2.episode{}.pth\".format(x))\n",
    "                torch.save(agent1.critic_local.state_dict(), \"checkpoints/critic1.episode{}.pth\".format(x))\n",
    "                torch.save(agent2.critic_local.state_dict(), \"checkpoints/critic2.episode{}.pth\".format(x))\n",
    "            break\n",
    "q0,q1,q2,q3,q4 = np.percentile(scores_mean, [0,25, 50, 75,100])\n",
    "print(\"Solved in {} episodes: mean score {:.3f}\\tmin {:.3f}\\tQ1 {:.3f}\\tmedian {:.3f}\\tQ3 {:.3f}\\tmax {:.3f}                              \".format(x,np.mean(scores_mean),q0,q1,q2,q3,q4))\n",
    "torch.save(agent1.actor_local.state_dict(), \"actor1.final.pth\")\n",
    "torch.save(agent2.actor_local.state_dict(), \"actor2.final.pth\")\n",
    "torch.save(agent1.critic_local.state_dict(), \"critic1.final.pth\")\n",
    "torch.save(agent2.critic_local.state_dict(), \"critic2.final.pth\")\n",
    "with open(\"scores.pkl\",\"wb\") as f:\n",
    "    pkl.dump(file=f,obj=scores)"
   ]
  },
  {
   "cell_type": "code",
   "execution_count": 8,
   "metadata": {},
   "outputs": [],
   "source": [
    "env.close()"
   ]
  }
 ],
 "metadata": {
  "kernelspec": {
   "display_name": "drlnd",
   "language": "python",
   "name": "drlnd"
  },
  "language_info": {
   "codemirror_mode": {
    "name": "ipython",
    "version": 3
   },
   "file_extension": ".py",
   "mimetype": "text/x-python",
   "name": "python",
   "nbconvert_exporter": "python",
   "pygments_lexer": "ipython3",
   "version": "3.6.6"
  }
 },
 "nbformat": 4,
 "nbformat_minor": 2
}
