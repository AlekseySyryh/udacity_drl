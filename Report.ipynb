{
 "cells": [
  {
   "cell_type": "markdown",
   "metadata": {},
   "source": [
    "## I. Learning algorithm\n",
    "\n",
    "This solution is almost an exact copy of my [previous project](https://github.com/AlekseySyryh/DRL_ContinuousControl). \n",
    "\n",
    "There are two identical, but independent agents in the solution. Each agent is a relatively simple implementation of Deep Deterministic Policy Gradients (DDPG) Actor-Critic algorythm. As the name suggests, the agent consists of two networks - Actor (the network that chooses the action) and Critic (the network decides whether the action was good or not, so it helps to actor  to converge much faster).\n",
    "\n",
    "Due to the fact that the dimension of feature space is relatively small (24), for the solution we will have enough simple fully connected networks.\n",
    "\n",
    "Actor network have 24 inputs (for number for dimensions), and Critic have 26 inputs (number of dimensions + number of actions). First hidden layer of both networks have 256 outputs, and second layer have 128 outputs. To have some nonlinearity all hidden layers have ReLU activation function. Actor network have 2 outputs (for number of actions) with tanh activation function (so that the probability of one action does not become too big), and Critic have 1 output - aproximation of Q value for the state-action pair.\n",
    "\n",
    "The following measures have been taken to improve convergence:\n",
    "\n",
    "We have two copies of each network. Initially they are the same. In the process, we train locale networks by using target networks. At the same time, the target network itself is changing very slowly (although it tends to local). It helps to prevent instabilities in learning.\n",
    "\n",
    "We initialize initial weight of networks as described [here](https://arxiv.org/abs/1509.02971)\n",
    "\n",
    "For balance exploration-exploitation tradeoff we are using some thins:\n",
    "\n",
    "1. For balance exploration-exploitation tradeoff, I am using epsilon parameter which decreasing from 1 by 0.02% every episode until it reach value of 0.1 - and it is the likelihood that noise will be used in this episode. If you look at the results of the training, we see an interesting picture. At the end of training, several attempts out of 100 are made for the maximum score, but the rest are much worse (for example, half of the attempts have a result no better than 0.2) - the introduction of this attenuation somewhat improves the result. I'm not sure that this is really important because the same model, but it seems that without a noise it simply does not know how to make mistakes, but in any case, it converges somewhat faster.\n",
    "\n",
    "1. For the exploration noise process we I temporally correlated noise in order to explore well in physical environments that have momentum. I used an Ornstein-Uhlenbeck process as described [here](https://arxiv.org/abs/1509.02971), but I am using theta = 0.1. Due to the stochastic nature of the learning process, I cannot be absolutely sure that this value is better, but it seemed to me that this is so. \n",
    "\n",
    "The Adam optimizer are usual first-option optimizer, as usual works quite good in our case. Optimal learinig rate for out networks are something around 0.0001. \n",
    "\n",
    "The remaining parameters are left as is. They just work."
   ]
  },
  {
   "cell_type": "markdown",
   "metadata": {},
   "source": [
    "## II. Plot of Rewards"
   ]
  },
  {
   "cell_type": "code",
   "execution_count": 1,
   "metadata": {},
   "outputs": [],
   "source": [
    "import pickle as pkl\n",
    "with open('scores.pkl','rb') as f:\n",
    "    stat=pkl.load(file=f)"
   ]
  },
  {
   "cell_type": "code",
   "execution_count": 3,
   "metadata": {},
   "outputs": [
    {
     "data": {
      "image/png": "[encoded data removed]",
      "text/plain": [
       "<Figure size 432x288 with 1 Axes>"
      ]
     },
     "metadata": {
      "needs_background": "light"
     },
     "output_type": "display_data"
    }
   ],
   "source": [
    "import pandas as pd\n",
    "import matplotlib.pyplot as plt\n",
    "data=pd.DataFrame({\"Score\":stat})\n",
    "data[\"Mean\"]=data.rolling(100).mean()\n",
    "data.plot()\n",
    "plt.show()"
   ]
  },
  {
   "cell_type": "markdown",
   "metadata": {},
   "source": [
    "Environment solved in 1946 episodes\n",
    "\n",
    "## III. Solution example"
   ]
  },
  {
   "cell_type": "code",
   "execution_count": 3,
   "metadata": {},
   "outputs": [
    {
     "name": "stderr",
     "output_type": "stream",
     "text": [
      "INFO:unityagents:\n",
      "'Academy' started successfully!\n",
      "Unity Academy name: Academy\n",
      "        Number of Brains: 1\n",
      "        Number of External Brains : 1\n",
      "        Lesson number : 0\n",
      "        Reset Parameters :\n",
      "\t\t\n",
      "Unity brain name: TennisBrain\n",
      "        Number of Visual Observations (per agent): 0\n",
      "        Vector Observation space type: continuous\n",
      "        Vector Observation space size (per agent): 8\n",
      "        Number of stacked Vector Observation: 3\n",
      "        Vector Action space type: continuous\n",
      "        Vector Action space size (per agent): 2\n",
      "        Vector Action descriptions: , \n"
     ]
    }
   ],
   "source": [
    "from unityagents import UnityEnvironment\n",
    "import numpy as np\n",
    "env = UnityEnvironment(file_name='c:/Tennis_Windows_x86_64/Tennis.exe');\n",
    "brain_name = env.brain_names[0]\n",
    "brain = env.brains[brain_name]"
   ]
  },
  {
   "cell_type": "code",
   "execution_count": 4,
   "metadata": {},
   "outputs": [],
   "source": [
    "from network import Actor\n",
    "actor1 = Actor(24,2,1)\n",
    "actor2 = Actor(24,2,1)"
   ]
  },
  {
   "cell_type": "code",
   "execution_count": 5,
   "metadata": {},
   "outputs": [],
   "source": [
    "import torch\n",
    "actor1.load_state_dict(torch.load('actor1.final.pth'))\n",
    "actor2.load_state_dict(torch.load('actor2.final.pth'))"
   ]
  },
  {
   "cell_type": "code",
   "execution_count": 6,
   "metadata": {},
   "outputs": [
    {
     "name": "stdout",
     "output_type": "stream",
     "text": [
      "2.600000038743019\n",
      "2.7000000402331352\n",
      "2.600000038743019\n",
      "2.7000000402331352\n",
      "2.7000000402331352\n"
     ]
    }
   ],
   "source": [
    "for x in range(5):\n",
    "    env_info = env.reset(train_mode=False)[brain_name]     # reset the environment    \n",
    "    state = env_info.vector_observations                  # get the current state (for each agent)\n",
    "    score = np.zeros(2)\n",
    "    while True:\n",
    "        action=[actor1(torch.tensor(state[0],dtype=torch.float32)).detach().numpy(),actor2(torch.tensor(state[1],dtype=torch.float32)).detach().numpy()]\n",
    "        env_info = env.step(action)[brain_name]\n",
    "        next_state = env_info.vector_observations\n",
    "        reward = env_info.rewards\n",
    "        dones = env_info.local_done                        # see if episode finished\n",
    "        score += env_info.rewards                         # update the score (for each agent)        \n",
    "        state = next_state # roll over states to next time step\n",
    "        if np.any(dones):\n",
    "            print(score.max())\n",
    "            break"
   ]
  },
  {
   "cell_type": "code",
   "execution_count": 7,
   "metadata": {},
   "outputs": [],
   "source": [
    "env.close()"
   ]
  },
  {
   "cell_type": "markdown",
   "metadata": {},
   "source": [
    "An interesting effect. In training, in 50% of cases, the agent managed to hit the ball no more than two times. I thought it was some kind of learning problem, but here (without noise) there is no such problem. So the algorithm looks good enough."
   ]
  },
  {
   "cell_type": "markdown",
   "metadata": {},
   "source": [
    "## IV. Ideas for future work\n",
    "\n",
    "Collaboration looks good, and agents can play long enough now. Now it's time to start Competition part.\n",
    "\n",
    "What if reward of one agent will be also a penalty of another (may be with some discount)? I do not think that such an approach would have worked when learning from scratch, but for an agent who was trained on this task, this might work (some kind of transfer learning).\n",
    "\n",
    "As usual, I will probably check out some other algorithms, but there is not much point in this - the result is already as close as possible to the ideal one. I never managed to see how the agent is mistaken."
   ]
  }
 ],
 "metadata": {
  "kernelspec": {
   "display_name": "drlnd",
   "language": "python",
   "name": "drlnd"
  },
  "language_info": {
   "codemirror_mode": {
    "name": "ipython",
    "version": 3
   },
   "file_extension": ".py",
   "mimetype": "text/x-python",
   "name": "python",
   "nbconvert_exporter": "python",
   "pygments_lexer": "ipython3",
   "version": "3.6.6"
  }
 },
 "nbformat": 4,
 "nbformat_minor": 2
}
