{
 "cells": [
  {
   "cell_type": "markdown",
   "metadata": {},
   "source": [
    "## I. Learning algorithm\n",
    "\n",
    "The solution is a relatively simple implementation of Deep Deterministic Policy Gradients (DDPG) Actor-Critic algorythm.\n",
    "As the name suggests, the solution consists of two networks - Actor (the network that chooses the **action**) and Critic (the network **decides** whether the action was successful).\n",
    "\n",
    "Due to the fact that the dimension of feature space is relatively small (33), for the solution we will have enough simple fully connected networks.\n",
    "\n",
    "Actor network have 33 inputs (for number for dimensions), and Critic have 37 inputs (number of dimensions + number of actions).\n",
    "First hidden layer of both networks have 256 outputs, and second layer have 128 outputs. To have some nonlinearity all hidden layers have ReLU activation function. Actor network have 4 outputs (for number of actions) with tanh activation function (so that the probability of one action does not become too big), and Critic have 1 output - aproximation of Q value for the state-action pair."
   ]
  },
  {
   "cell_type": "markdown",
   "metadata": {},
   "source": [
    "The following measures have been taken to improve convergence:\n",
    "\n",
    "1. We have two copies of each network. Initially they are the same. In the process, we train locale networks by using target networks. At the same time, the target network itself is changing very slowly (although it tends to local). It helps to  prevent instabilities in learning.\n",
    "1. We initialize initial weight of networks as described [here](https://arxiv.org/abs/1509.02971)\n",
    "1. For balance exploration-exploitation tradeoff, during training we have 1% chance to add some normal \\[0;0.1\\] noice to our actions\n",
    "\n",
    "The Adam optimizer are usual first-option optimizer, as usual works quite good in our case. Optimal learinig rate for out networks are something around 0.0001"
   ]
  },
  {
   "cell_type": "markdown",
   "metadata": {},
   "source": [
    "## II. Plot of Rewards"
   ]
  },
  {
   "cell_type": "code",
   "execution_count": 1,
   "metadata": {},
   "outputs": [],
   "source": [
    "import pickle as pkl\n",
    "with open('stat.pk','rb') as f:\n",
    "    stat=pkl.load(file=f)"
   ]
  },
  {
   "cell_type": "code",
   "execution_count": 3,
   "metadata": {},
   "outputs": [
    {
     "data": {
      "image/png": "[encoded data removed]",
      "text/plain": [
       "<Figure size 432x288 with 1 Axes>"
      ]
     },
     "metadata": {
      "needs_background": "light"
     },
     "output_type": "display_data"
    }
   ],
   "source": [
    "import pandas as pd\n",
    "import matplotlib.pyplot as plt\n",
    "pd.DataFrame([x[1] for x in stat]).plot()\n",
    "plt.show()"
   ]
  },
  {
   "cell_type": "markdown",
   "metadata": {},
   "source": [
    "Environment solved in 110 episodes"
   ]
  },
  {
   "cell_type": "markdown",
   "metadata": {},
   "source": [
    "## III. Solution example"
   ]
  },
  {
   "cell_type": "code",
   "execution_count": 4,
   "metadata": {},
   "outputs": [
    {
     "name": "stderr",
     "output_type": "stream",
     "text": [
      "INFO:unityagents:\n",
      "'Academy' started successfully!\n",
      "Unity Academy name: Academy\n",
      "        Number of Brains: 1\n",
      "        Number of External Brains : 1\n",
      "        Lesson number : 0\n",
      "        Reset Parameters :\n",
      "\t\tgoal_speed -> 1.0\n",
      "\t\tgoal_size -> 5.0\n",
      "Unity brain name: ReacherBrain\n",
      "        Number of Visual Observations (per agent): 0\n",
      "        Vector Observation space type: continuous\n",
      "        Vector Observation space size (per agent): 33\n",
      "        Number of stacked Vector Observation: 1\n",
      "        Vector Action space type: continuous\n",
      "        Vector Action space size (per agent): 4\n",
      "        Vector Action descriptions: , , , \n"
     ]
    }
   ],
   "source": [
    "from unityagents import UnityEnvironment\n",
    "import numpy as np\n",
    "env = UnityEnvironment(file_name='c:/Reacher_20/Reacher.exe');"
   ]
  },
  {
   "cell_type": "code",
   "execution_count": 5,
   "metadata": {},
   "outputs": [],
   "source": [
    "from network import Actor\n",
    "actor = Actor(33,4,1)"
   ]
  },
  {
   "cell_type": "code",
   "execution_count": 6,
   "metadata": {},
   "outputs": [],
   "source": [
    "import torch\n",
    "actor.load_state_dict(torch.load('solved.actor.pth'))"
   ]
  },
  {
   "cell_type": "code",
   "execution_count": 7,
   "metadata": {},
   "outputs": [],
   "source": [
    "brain_name=env.brain_names[0]\n",
    "env_info = env.reset(train_mode=False)[brain_name]\n",
    "state = env_info.vector_observations\n",
    "score = np.zeros(20)\n",
    "while True:\n",
    "    action = actor(torch.tensor(state,dtype=torch.float32)).detach().numpy()\n",
    "    action = np.clip(action, -1, 1)                  # all actions between -1 and 1\n",
    "    env_info = env.step(action)[brain_name] \n",
    "    next_state = env_info.vector_observations         # get next state (for each agent)\n",
    "    score += env_info.rewards\n",
    "    done = env_info.local_done                        # see if episode finished\n",
    "    state = next_state # roll over states to next time step\n",
    "    if np.any(done):\n",
    "        break"
   ]
  },
  {
   "cell_type": "code",
   "execution_count": 8,
   "metadata": {},
   "outputs": [
    {
     "name": "stdout",
     "output_type": "stream",
     "text": [
      "Mean score 35.950999196432534\n"
     ]
    }
   ],
   "source": [
    "print(\"Mean score {}\".format(np.mean(score)))"
   ]
  },
  {
   "cell_type": "code",
   "execution_count": 9,
   "metadata": {},
   "outputs": [],
   "source": [
    "env.close()"
   ]
  },
  {
   "cell_type": "markdown",
   "metadata": {},
   "source": [
    "## IV. Ideas for future work\n",
    "\n",
    "Try some other hyperparameters, initialization methods, noise algorythms, etc"
   ]
  }
 ],
 "metadata": {
  "kernelspec": {
   "display_name": "drlnd",
   "language": "python",
   "name": "drlnd"
  },
  "language_info": {
   "codemirror_mode": {
    "name": "ipython",
    "version": 3
   },
   "file_extension": ".py",
   "mimetype": "text/x-python",
   "name": "python",
   "nbconvert_exporter": "python",
   "pygments_lexer": "ipython3",
   "version": "3.6.6"
  }
 },
 "nbformat": 4,
 "nbformat_minor": 2
}
